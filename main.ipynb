{
 "cells": [
  {
   "cell_type": "code",
   "execution_count": 1,
   "metadata": {
    "colab": {
     "base_uri": "https://localhost:8080/"
    },
    "executionInfo": {
     "elapsed": 33404,
     "status": "ok",
     "timestamp": 1758095529988,
     "user": {
      "displayName": "aatiqa bhatti",
      "userId": "14307897228911474333"
     },
     "user_tz": -300
    },
    "id": "d58b087f",
    "outputId": "1ace200c-500a-405a-fba7-68a36dc9fc81"
   },
   "outputs": [
    {
     "name": "stdout",
     "output_type": "stream",
     "text": [
      "Mounted at /content/drive\n"
     ]
    }
   ],
   "source": [
    "from google.colab import drive\n",
    "drive.mount('/content/drive')"
   ]
  },
  {
   "cell_type": "code",
   "execution_count": null,
   "metadata": {
    "colab": {
     "base_uri": "https://localhost:8080/"
    },
    "executionInfo": {
     "elapsed": 849894,
     "status": "ok",
     "timestamp": 1758099404869,
     "user": {
      "displayName": "aatiqa bhatti",
      "userId": "14307897228911474333"
     },
     "user_tz": -300
    },
    "id": "0CdM0ltvhboR",
    "outputId": "a85eff30-5c16-408e-f454-f99abfe9a899"
   },
   "outputs": [
    {
     "name": "stdout",
     "output_type": "stream",
     "text": [
      "2025-09-17 08:42:34.437952: E external/local_xla/xla/stream_executor/cuda/cuda_fft.cc:467] Unable to register cuFFT factory: Attempting to register factory for plugin cuFFT when one has already been registered\n",
      "WARNING: All log messages before absl::InitializeLog() is called are written to STDERR\n",
      "E0000 00:00:1758098554.456078   15776 cuda_dnn.cc:8579] Unable to register cuDNN factory: Attempting to register factory for plugin cuDNN when one has already been registered\n",
      "E0000 00:00:1758098554.461651   15776 cuda_blas.cc:1407] Unable to register cuBLAS factory: Attempting to register factory for plugin cuBLAS when one has already been registered\n",
      "W0000 00:00:1758098554.476128   15776 computation_placer.cc:177] computation placer already registered. Please check linkage and avoid linking the same target more than once.\n",
      "W0000 00:00:1758098554.476156   15776 computation_placer.cc:177] computation placer already registered. Please check linkage and avoid linking the same target more than once.\n",
      "W0000 00:00:1758098554.476160   15776 computation_placer.cc:177] computation placer already registered. Please check linkage and avoid linking the same target more than once.\n",
      "W0000 00:00:1758098554.476163   15776 computation_placer.cc:177] computation placer already registered. Please check linkage and avoid linking the same target more than once.\n",
      "hi\n",
      "(17520, 64, 64, 3) (17520, 64, 64, 3)\n",
      "hello\n",
      "Training set: (17520, 64, 64, 3) (17520, 64, 64, 3)\n",
      "Validation set: (3552, 64, 64, 3) (3552, 64, 64, 3)\n",
      "2025-09-17 08:43:18.827705: W tensorflow/core/common_runtime/gpu/gpu_bfc_allocator.cc:47] Overriding orig_value setting because the TF_FORCE_GPU_ALLOW_GROWTH environment variable is set. Original config value was 0.\n",
      "I0000 00:00:1758098598.830904   15776 gpu_device.cc:2019] Created device /job:localhost/replica:0/task:0/device:GPU:0 with 13942 MB memory:  -> device: 0, name: Tesla T4, pci bus id: 0000:00:04.0, compute capability: 7.5\n",
      "/usr/local/lib/python3.12/dist-packages/keras/src/layers/convolutional/base_conv.py:113: UserWarning: Do not pass an `input_shape`/`input_dim` argument to a layer. When using Sequential models, prefer using an `Input(shape)` object as the first layer in the model instead.\n",
      "  super().__init__(activity_regularizer=activity_regularizer, **kwargs)\n",
      "traning started\n",
      "2025-09-17 08:43:20.347897: W external/local_xla/xla/tsl/framework/cpu_allocator_impl.cc:83] Allocation of 861143040 exceeds 10% of free system memory.\n",
      "2025-09-17 08:43:21.385919: W external/local_xla/xla/tsl/framework/cpu_allocator_impl.cc:83] Allocation of 861143040 exceeds 10% of free system memory.\n",
      "2025-09-17 08:43:22.128563: W external/local_xla/xla/tsl/framework/cpu_allocator_impl.cc:83] Allocation of 861143040 exceeds 10% of free system memory.\n",
      "2025-09-17 08:43:22.671300: W external/local_xla/xla/tsl/framework/cpu_allocator_impl.cc:83] Allocation of 861143040 exceeds 10% of free system memory.\n",
      "Epoch 1/50\n",
      "WARNING: All log messages before absl::InitializeLog() is called are written to STDERR\n",
      "I0000 00:00:1758098604.432368   15974 service.cc:152] XLA service 0x7964440051f0 initialized for platform CUDA (this does not guarantee that XLA will be used). Devices:\n",
      "I0000 00:00:1758098604.432410   15974 service.cc:160]   StreamExecutor device (0): Tesla T4, Compute Capability 7.5\n",
      "2025-09-17 08:43:24.553247: W tensorflow/compiler/tf2xla/kernels/assert_op.cc:39] Ignoring Assert operator PSNR/Assert/Assert\n",
      "2025-09-17 08:43:24.553342: W tensorflow/compiler/tf2xla/kernels/assert_op.cc:39] Ignoring Assert operator PSNR/Assert_1/Assert\n",
      "2025-09-17 08:43:24.554980: W tensorflow/compiler/tf2xla/kernels/assert_op.cc:39] Ignoring Assert operator SSIM/Assert/Assert\n",
      "2025-09-17 08:43:24.555065: W tensorflow/compiler/tf2xla/kernels/assert_op.cc:39] Ignoring Assert operator SSIM/Assert_1/Assert\n",
      "2025-09-17 08:43:24.555307: W tensorflow/compiler/tf2xla/kernels/assert_op.cc:39] Ignoring Assert operator SSIM/Assert_2/Assert\n",
      "2025-09-17 08:43:24.555398: W tensorflow/compiler/tf2xla/kernels/assert_op.cc:39] Ignoring Assert operator SSIM/Assert_3/Assert\n",
      "I0000 00:00:1758098604.639627   15974 cuda_dnn.cc:529] Loaded cuDNN version 91002\n",
      "2025-09-17 08:43:25.538002: E external/local_xla/xla/stream_executor/cuda/cuda_timer.cc:86] Delay kernel timed out: measured time has sub-optimal accuracy. There may be a missing warmup execution, please investigate in Nsight Systems.\n",
      "2025-09-17 08:43:25.672707: E external/local_xla/xla/stream_executor/cuda/cuda_timer.cc:86] Delay kernel timed out: measured time has sub-optimal accuracy. There may be a missing warmup execution, please investigate in Nsight Systems.\n",
      "I0000 00:00:1758098606.736427   15974 device_compiler.h:188] Compiled cluster using XLA!  This line is logged at most once for the lifetime of the process.\n",
      "\u001b[1m1089/1095\u001b[0m \u001b[32m━━━━━━━━━━━━━━━━━━━\u001b[0m\u001b[37m━\u001b[0m \u001b[1m0s\u001b[0m 8ms/step - loss: 0.0193 - psnr_metric: inf - ssim_metric: 0.70832025-09-17 08:43:36.712487: W tensorflow/compiler/tf2xla/kernels/assert_op.cc:39] Ignoring Assert operator PSNR/Assert/Assert\n",
      "2025-09-17 08:43:36.712592: W tensorflow/compiler/tf2xla/kernels/assert_op.cc:39] Ignoring Assert operator PSNR/Assert_1/Assert\n",
      "2025-09-17 08:43:36.713488: W tensorflow/compiler/tf2xla/kernels/assert_op.cc:39] Ignoring Assert operator SSIM/Assert/Assert\n",
      "2025-09-17 08:43:36.713570: W tensorflow/compiler/tf2xla/kernels/assert_op.cc:39] Ignoring Assert operator SSIM/Assert_1/Assert\n",
      "2025-09-17 08:43:36.713709: W tensorflow/compiler/tf2xla/kernels/assert_op.cc:39] Ignoring Assert operator SSIM/Assert_2/Assert\n",
      "2025-09-17 08:43:36.713788: W tensorflow/compiler/tf2xla/kernels/assert_op.cc:39] Ignoring Assert operator SSIM/Assert_3/Assert\n",
      "\u001b[1m1095/1095\u001b[0m \u001b[32m━━━━━━━━━━━━━━━━━━━━\u001b[0m\u001b[37m\u001b[0m \u001b[1m16s\u001b[0m 11ms/step - loss: 0.0192 - psnr_metric: inf - ssim_metric: 0.7089 - val_loss: 0.0014 - val_psnr_metric: 31.2085 - val_ssim_metric: 0.8849\n",
      "Epoch 2/50\n",
      "\u001b[1m1095/1095\u001b[0m \u001b[32m━━━━━━━━━━━━━━━━━━━━\u001b[0m\u001b[37m\u001b[0m \u001b[1m10s\u001b[0m 9ms/step - loss: 0.0016 - psnr_metric: 31.6486 - ssim_metric: 0.8811 - val_loss: 0.0010 - val_psnr_metric: 33.1147 - val_ssim_metric: 0.9065\n",
      "Epoch 3/50\n",
      "\u001b[1m1095/1095\u001b[0m \u001b[32m━━━━━━━━━━━━━━━━━━━━\u001b[0m\u001b[37m\u001b[0m \u001b[1m10s\u001b[0m 9ms/step - loss: 0.0013 - psnr_metric: 32.9486 - ssim_metric: 0.8976 - val_loss: 8.9902e-04 - val_psnr_metric: 34.1889 - val_ssim_metric: 0.9171\n",
      "Epoch 4/50\n",
      "\u001b[1m1095/1095\u001b[0m \u001b[32m━━━━━━━━━━━━━━━━━━━━\u001b[0m\u001b[37m\u001b[0m \u001b[1m10s\u001b[0m 9ms/step - loss: 0.0012 - psnr_metric: 33.5388 - ssim_metric: 0.9060 - val_loss: 8.3422e-04 - val_psnr_metric: 34.8636 - val_ssim_metric: 0.9216\n",
      "Epoch 5/50\n",
      "\u001b[1m1095/1095\u001b[0m \u001b[32m━━━━━━━━━━━━━━━━━━━━\u001b[0m\u001b[37m\u001b[0m \u001b[1m10s\u001b[0m 9ms/step - loss: 0.0011 - psnr_metric: 34.1709 - ssim_metric: 0.9093 - val_loss: 7.9565e-04 - val_psnr_metric: 35.3746 - val_ssim_metric: 0.9240\n",
      "Epoch 6/50\n",
      "\u001b[1m1095/1095\u001b[0m \u001b[32m━━━━━━━━━━━━━━━━━━━━\u001b[0m\u001b[37m\u001b[0m \u001b[1m11s\u001b[0m 10ms/step - loss: 0.0011 - psnr_metric: 34.6784 - ssim_metric: 0.9117 - val_loss: 7.6955e-04 - val_psnr_metric: 35.7539 - val_ssim_metric: 0.9258\n",
      "Epoch 7/50\n",
      "\u001b[1m1095/1095\u001b[0m \u001b[32m━━━━━━━━━━━━━━━━━━━━\u001b[0m\u001b[37m\u001b[0m \u001b[1m21s\u001b[0m 10ms/step - loss: 0.0011 - psnr_metric: 34.5874 - ssim_metric: 0.9130 - val_loss: 7.5235e-04 - val_psnr_metric: 35.9803 - val_ssim_metric: 0.9268\n",
      "Epoch 8/50\n",
      "\u001b[1m1095/1095\u001b[0m \u001b[32m━━━━━━━━━━━━━━━━━━━━\u001b[0m\u001b[37m\u001b[0m \u001b[1m20s\u001b[0m 9ms/step - loss: 0.0011 - psnr_metric: 34.6773 - ssim_metric: 0.9142 - val_loss: 7.4070e-04 - val_psnr_metric: 36.1263 - val_ssim_metric: 0.9278\n",
      "Epoch 9/50\n",
      "\u001b[1m1095/1095\u001b[0m \u001b[32m━━━━━━━━━━━━━━━━━━━━\u001b[0m\u001b[37m\u001b[0m \u001b[1m10s\u001b[0m 9ms/step - loss: 0.0010 - psnr_metric: 34.8226 - ssim_metric: 0.9151 - val_loss: 7.3362e-04 - val_psnr_metric: 36.1004 - val_ssim_metric: 0.9286\n",
      "Epoch 10/50\n",
      "\u001b[1m1095/1095\u001b[0m \u001b[32m━━━━━━━━━━━━━━━━━━━━\u001b[0m\u001b[37m\u001b[0m \u001b[1m21s\u001b[0m 10ms/step - loss: 0.0010 - psnr_metric: 35.0798 - ssim_metric: 0.9158 - val_loss: 7.1978e-04 - val_psnr_metric: 36.4958 - val_ssim_metric: 0.9292\n",
      "Epoch 11/50\n",
      "\u001b[1m1095/1095\u001b[0m \u001b[32m━━━━━━━━━━━━━━━━━━━━\u001b[0m\u001b[37m\u001b[0m \u001b[1m11s\u001b[0m 10ms/step - loss: 9.8134e-04 - psnr_metric: 35.6110 - ssim_metric: 0.9170 - val_loss: 7.1475e-04 - val_psnr_metric: 36.4766 - val_ssim_metric: 0.9296\n",
      "Epoch 12/50\n",
      "\u001b[1m1095/1095\u001b[0m \u001b[32m━━━━━━━━━━━━━━━━━━━━\u001b[0m\u001b[37m\u001b[0m \u001b[1m20s\u001b[0m 9ms/step - loss: 9.9558e-04 - psnr_metric: 35.3381 - ssim_metric: 0.9175 - val_loss: 7.4245e-04 - val_psnr_metric: 35.3998 - val_ssim_metric: 0.9302\n",
      "Epoch 13/50\n",
      "\u001b[1m1095/1095\u001b[0m \u001b[32m━━━━━━━━━━━━━━━━━━━━\u001b[0m\u001b[37m\u001b[0m \u001b[1m21s\u001b[0m 10ms/step - loss: 9.7133e-04 - psnr_metric: 35.5260 - ssim_metric: 0.9174 - val_loss: 7.1194e-04 - val_psnr_metric: 36.1654 - val_ssim_metric: 0.9301\n",
      "Epoch 14/50\n",
      "\u001b[1m1095/1095\u001b[0m \u001b[32m━━━━━━━━━━━━━━━━━━━━\u001b[0m\u001b[37m\u001b[0m \u001b[1m11s\u001b[0m 10ms/step - loss: 9.8190e-04 - psnr_metric: 35.4218 - ssim_metric: 0.9178 - val_loss: 6.9340e-04 - val_psnr_metric: 36.8344 - val_ssim_metric: 0.9313\n",
      "Epoch 15/50\n",
      "\u001b[1m1095/1095\u001b[0m \u001b[32m━━━━━━━━━━━━━━━━━━━━\u001b[0m\u001b[37m\u001b[0m \u001b[1m11s\u001b[0m 10ms/step - loss: 9.8311e-04 - psnr_metric: 35.5767 - ssim_metric: 0.9188 - val_loss: 6.9070e-04 - val_psnr_metric: 36.8254 - val_ssim_metric: 0.9315\n",
      "Epoch 16/50\n",
      "\u001b[1m1095/1095\u001b[0m \u001b[32m━━━━━━━━━━━━━━━━━━━━\u001b[0m\u001b[37m\u001b[0m \u001b[1m11s\u001b[0m 10ms/step - loss: 9.7527e-04 - psnr_metric: 35.4461 - ssim_metric: 0.9180 - val_loss: 6.9042e-04 - val_psnr_metric: 36.6514 - val_ssim_metric: 0.9312\n",
      "Epoch 17/50\n",
      "\u001b[1m1095/1095\u001b[0m \u001b[32m━━━━━━━━━━━━━━━━━━━━\u001b[0m\u001b[37m\u001b[0m \u001b[1m20s\u001b[0m 10ms/step - loss: 9.5264e-04 - psnr_metric: 35.5249 - ssim_metric: 0.9188 - val_loss: 6.8164e-04 - val_psnr_metric: 36.9444 - val_ssim_metric: 0.9320\n",
      "Epoch 18/50\n",
      "\u001b[1m1095/1095\u001b[0m \u001b[32m━━━━━━━━━━━━━━━━━━━━\u001b[0m\u001b[37m\u001b[0m \u001b[1m21s\u001b[0m 10ms/step - loss: 9.6179e-04 - psnr_metric: 35.6672 - ssim_metric: 0.9194 - val_loss: 6.7933e-04 - val_psnr_metric: 36.9058 - val_ssim_metric: 0.9322\n",
      "Epoch 19/50\n",
      "\u001b[1m1095/1095\u001b[0m \u001b[32m━━━━━━━━━━━━━━━━━━━━\u001b[0m\u001b[37m\u001b[0m \u001b[1m20s\u001b[0m 10ms/step - loss: 9.3531e-04 - psnr_metric: 35.6275 - ssim_metric: 0.9196 - val_loss: 6.7765e-04 - val_psnr_metric: 36.8808 - val_ssim_metric: 0.9321\n",
      "Epoch 20/50\n",
      "\u001b[1m1095/1095\u001b[0m \u001b[32m━━━━━━━━━━━━━━━━━━━━\u001b[0m\u001b[37m\u001b[0m \u001b[1m11s\u001b[0m 10ms/step - loss: 9.2727e-04 - psnr_metric: 35.8738 - ssim_metric: 0.9193 - val_loss: 7.1431e-04 - val_psnr_metric: 35.6406 - val_ssim_metric: 0.9321\n",
      "Epoch 21/50\n",
      "\u001b[1m1095/1095\u001b[0m \u001b[32m━━━━━━━━━━━━━━━━━━━━\u001b[0m\u001b[37m\u001b[0m \u001b[1m20s\u001b[0m 10ms/step - loss: 9.4084e-04 - psnr_metric: 35.4839 - ssim_metric: 0.9204 - val_loss: 6.7140e-04 - val_psnr_metric: 37.0072 - val_ssim_metric: 0.9324\n",
      "Epoch 22/50\n",
      "\u001b[1m1095/1095\u001b[0m \u001b[32m━━━━━━━━━━━━━━━━━━━━\u001b[0m\u001b[37m\u001b[0m \u001b[1m10s\u001b[0m 9ms/step - loss: 9.1618e-04 - psnr_metric: 35.9390 - ssim_metric: 0.9203 - val_loss: 6.7003e-04 - val_psnr_metric: 36.9813 - val_ssim_metric: 0.9325\n",
      "Epoch 23/50\n",
      "\u001b[1m1095/1095\u001b[0m \u001b[32m━━━━━━━━━━━━━━━━━━━━\u001b[0m\u001b[37m\u001b[0m \u001b[1m21s\u001b[0m 10ms/step - loss: 9.2998e-04 - psnr_metric: 35.7616 - ssim_metric: 0.9196 - val_loss: 6.6665e-04 - val_psnr_metric: 37.0259 - val_ssim_metric: 0.9328\n",
      "Epoch 24/50\n",
      "\u001b[1m1095/1095\u001b[0m \u001b[32m━━━━━━━━━━━━━━━━━━━━\u001b[0m\u001b[37m\u001b[0m \u001b[1m10s\u001b[0m 9ms/step - loss: 9.1337e-04 - psnr_metric: 35.9461 - ssim_metric: 0.9205 - val_loss: 6.6716e-04 - val_psnr_metric: 36.8961 - val_ssim_metric: 0.9328\n",
      "Epoch 25/50\n",
      "\u001b[1m1095/1095\u001b[0m \u001b[32m━━━━━━━━━━━━━━━━━━━━\u001b[0m\u001b[37m\u001b[0m \u001b[1m10s\u001b[0m 10ms/step - loss: 9.1099e-04 - psnr_metric: 35.7245 - ssim_metric: 0.9212 - val_loss: 7.4067e-04 - val_psnr_metric: 34.8494 - val_ssim_metric: 0.9316\n",
      "Epoch 26/50\n",
      "\u001b[1m1095/1095\u001b[0m \u001b[32m━━━━━━━━━━━━━━━━━━━━\u001b[0m\u001b[37m\u001b[0m \u001b[1m20s\u001b[0m 9ms/step - loss: 9.5548e-04 - psnr_metric: 35.5419 - ssim_metric: 0.9196 - val_loss: 6.5994e-04 - val_psnr_metric: 37.0990 - val_ssim_metric: 0.9333\n",
      "Epoch 27/50\n",
      "\u001b[1m1095/1095\u001b[0m \u001b[32m━━━━━━━━━━━━━━━━━━━━\u001b[0m\u001b[37m\u001b[0m \u001b[1m21s\u001b[0m 10ms/step - loss: 9.0877e-04 - psnr_metric: 35.8549 - ssim_metric: 0.9210 - val_loss: 6.6450e-04 - val_psnr_metric: 36.7925 - val_ssim_metric: 0.9330\n",
      "Epoch 28/50\n",
      "\u001b[1m1095/1095\u001b[0m \u001b[32m━━━━━━━━━━━━━━━━━━━━\u001b[0m\u001b[37m\u001b[0m \u001b[1m20s\u001b[0m 10ms/step - loss: 9.2304e-04 - psnr_metric: 35.6594 - ssim_metric: 0.9206 - val_loss: 6.6073e-04 - val_psnr_metric: 36.8985 - val_ssim_metric: 0.9332\n",
      "Epoch 29/50\n",
      "\u001b[1m1095/1095\u001b[0m \u001b[32m━━━━━━━━━━━━━━━━━━━━\u001b[0m\u001b[37m\u001b[0m \u001b[1m20s\u001b[0m 10ms/step - loss: 9.1872e-04 - psnr_metric: 35.7452 - ssim_metric: 0.9207 - val_loss: 6.5537e-04 - val_psnr_metric: 37.1450 - val_ssim_metric: 0.9335\n",
      "Epoch 30/50\n",
      "\u001b[1m1095/1095\u001b[0m \u001b[32m━━━━━━━━━━━━━━━━━━━━\u001b[0m\u001b[37m\u001b[0m \u001b[1m20s\u001b[0m 10ms/step - loss: 8.8789e-04 - psnr_metric: 36.0542 - ssim_metric: 0.9218 - val_loss: 6.5601e-04 - val_psnr_metric: 37.0685 - val_ssim_metric: 0.9333\n",
      "Epoch 31/50\n",
      "\u001b[1m1095/1095\u001b[0m \u001b[32m━━━━━━━━━━━━━━━━━━━━\u001b[0m\u001b[37m\u001b[0m \u001b[1m10s\u001b[0m 10ms/step - loss: 9.1154e-04 - psnr_metric: 35.9143 - ssim_metric: 0.9205 - val_loss: 6.5791e-04 - val_psnr_metric: 37.0061 - val_ssim_metric: 0.9332\n",
      "Epoch 32/50\n",
      "\u001b[1m1095/1095\u001b[0m \u001b[32m━━━━━━━━━━━━━━━━━━━━\u001b[0m\u001b[37m\u001b[0m \u001b[1m20s\u001b[0m 9ms/step - loss: 8.9704e-04 - psnr_metric: 35.9653 - ssim_metric: 0.9214 - val_loss: 6.5837e-04 - val_psnr_metric: 36.7387 - val_ssim_metric: 0.9337\n",
      "Epoch 33/50\n",
      "\u001b[1m1095/1095\u001b[0m \u001b[32m━━━━━━━━━━━━━━━━━━━━\u001b[0m\u001b[37m\u001b[0m \u001b[1m21s\u001b[0m 10ms/step - loss: 9.2544e-04 - psnr_metric: 35.8194 - ssim_metric: 0.9198 - val_loss: 6.5120e-04 - val_psnr_metric: 37.1239 - val_ssim_metric: 0.9334\n",
      "Epoch 34/50\n",
      "\u001b[1m1095/1095\u001b[0m \u001b[32m━━━━━━━━━━━━━━━━━━━━\u001b[0m\u001b[37m\u001b[0m \u001b[1m20s\u001b[0m 10ms/step - loss: 8.8201e-04 - psnr_metric: 36.1353 - ssim_metric: 0.9221 - val_loss: 6.5309e-04 - val_psnr_metric: 36.9872 - val_ssim_metric: 0.9337\n",
      "Epoch 35/50\n",
      "\u001b[1m1095/1095\u001b[0m \u001b[32m━━━━━━━━━━━━━━━━━━━━\u001b[0m\u001b[37m\u001b[0m \u001b[1m21s\u001b[0m 10ms/step - loss: 9.1666e-04 - psnr_metric: 35.6291 - ssim_metric: 0.9212 - val_loss: 6.4819e-04 - val_psnr_metric: 37.1767 - val_ssim_metric: 0.9339\n",
      "Epoch 36/50\n",
      "\u001b[1m1095/1095\u001b[0m \u001b[32m━━━━━━━━━━━━━━━━━━━━\u001b[0m\u001b[37m\u001b[0m \u001b[1m11s\u001b[0m 10ms/step - loss: 8.7981e-04 - psnr_metric: 36.1052 - ssim_metric: 0.9217 - val_loss: 6.5302e-04 - val_psnr_metric: 36.8726 - val_ssim_metric: 0.9337\n",
      "Epoch 37/50\n",
      "\u001b[1m1095/1095\u001b[0m \u001b[32m━━━━━━━━━━━━━━━━━━━━\u001b[0m\u001b[37m\u001b[0m \u001b[1m21s\u001b[0m 10ms/step - loss: 9.1715e-04 - psnr_metric: 35.6434 - ssim_metric: 0.9210 - val_loss: 6.5102e-04 - val_psnr_metric: 36.9560 - val_ssim_metric: 0.9337\n",
      "Epoch 38/50\n",
      "\u001b[1m1095/1095\u001b[0m \u001b[32m━━━━━━━━━━━━━━━━━━━━\u001b[0m\u001b[37m\u001b[0m \u001b[1m20s\u001b[0m 9ms/step - loss: 9.0429e-04 - psnr_metric: 35.8354 - ssim_metric: 0.9215 - val_loss: 6.6567e-04 - val_psnr_metric: 36.2948 - val_ssim_metric: 0.9333\n",
      "Epoch 39/50\n",
      "\u001b[1m1095/1095\u001b[0m \u001b[32m━━━━━━━━━━━━━━━━━━━━\u001b[0m\u001b[37m\u001b[0m \u001b[1m11s\u001b[0m 10ms/step - loss: 8.7134e-04 - psnr_metric: 35.9190 - ssim_metric: 0.9218 - val_loss: 6.5046e-04 - val_psnr_metric: 36.8480 - val_ssim_metric: 0.9339\n",
      "Epoch 40/50\n",
      "\u001b[1m1095/1095\u001b[0m \u001b[32m━━━━━━━━━━━━━━━━━━━━\u001b[0m\u001b[37m\u001b[0m \u001b[1m20s\u001b[0m 10ms/step - loss: 9.1025e-04 - psnr_metric: 35.7081 - ssim_metric: 0.9215 - val_loss: 7.5751e-04 - val_psnr_metric: 34.3972 - val_ssim_metric: 0.9320\n",
      "Epoch 41/50\n",
      "\u001b[1m1095/1095\u001b[0m \u001b[32m━━━━━━━━━━━━━━━━━━━━\u001b[0m\u001b[37m\u001b[0m \u001b[1m11s\u001b[0m 10ms/step - loss: 9.1114e-04 - psnr_metric: 35.6404 - ssim_metric: 0.9210 - val_loss: 6.4251e-04 - val_psnr_metric: 37.2862 - val_ssim_metric: 0.9342\n",
      "Epoch 42/50\n",
      "\u001b[1m1095/1095\u001b[0m \u001b[32m━━━━━━━━━━━━━━━━━━━━\u001b[0m\u001b[37m\u001b[0m \u001b[1m20s\u001b[0m 10ms/step - loss: 8.9623e-04 - psnr_metric: 35.9562 - ssim_metric: 0.9222 - val_loss: 6.4237e-04 - val_psnr_metric: 37.2365 - val_ssim_metric: 0.9342\n",
      "Epoch 43/50\n",
      "\u001b[1m1095/1095\u001b[0m \u001b[32m━━━━━━━━━━━━━━━━━━━━\u001b[0m\u001b[37m\u001b[0m \u001b[1m10s\u001b[0m 9ms/step - loss: 8.6484e-04 - psnr_metric: 36.0626 - ssim_metric: 0.9233 - val_loss: 6.4551e-04 - val_psnr_metric: 37.0111 - val_ssim_metric: 0.9340\n",
      "Epoch 44/50\n",
      "\u001b[1m1095/1095\u001b[0m \u001b[32m━━━━━━━━━━━━━━━━━━━━\u001b[0m\u001b[37m\u001b[0m \u001b[1m21s\u001b[0m 10ms/step - loss: 8.9340e-04 - psnr_metric: 35.9412 - ssim_metric: 0.9217 - val_loss: 6.4319e-04 - val_psnr_metric: 37.1147 - val_ssim_metric: 0.9340\n",
      "Epoch 45/50\n",
      "\u001b[1m1095/1095\u001b[0m \u001b[32m━━━━━━━━━━━━━━━━━━━━\u001b[0m\u001b[37m\u001b[0m \u001b[1m20s\u001b[0m 9ms/step - loss: 8.7525e-04 - psnr_metric: 35.9261 - ssim_metric: 0.9220 - val_loss: 6.4091e-04 - val_psnr_metric: 37.3187 - val_ssim_metric: 0.9337\n",
      "Epoch 46/50\n",
      "\u001b[1m1095/1095\u001b[0m \u001b[32m━━━━━━━━━━━━━━━━━━━━\u001b[0m\u001b[37m\u001b[0m \u001b[1m11s\u001b[0m 10ms/step - loss: 8.8747e-04 - psnr_metric: 36.2444 - ssim_metric: 0.9221 - val_loss: 6.4404e-04 - val_psnr_metric: 37.1386 - val_ssim_metric: 0.9342\n",
      "Epoch 47/50\n",
      "\u001b[1m1095/1095\u001b[0m \u001b[32m━━━━━━━━━━━━━━━━━━━━\u001b[0m\u001b[37m\u001b[0m \u001b[1m20s\u001b[0m 10ms/step - loss: 9.1010e-04 - psnr_metric: 35.8689 - ssim_metric: 0.9217 - val_loss: 6.3775e-04 - val_psnr_metric: 37.3822 - val_ssim_metric: 0.9344\n",
      "Epoch 48/50\n",
      "\u001b[1m1095/1095\u001b[0m \u001b[32m━━━━━━━━━━━━━━━━━━━━\u001b[0m\u001b[37m\u001b[0m \u001b[1m11s\u001b[0m 10ms/step - loss: 8.7221e-04 - psnr_metric: 36.2166 - ssim_metric: 0.9226 - val_loss: 6.6850e-04 - val_psnr_metric: 36.0677 - val_ssim_metric: 0.9338\n",
      "Epoch 49/50\n",
      "\u001b[1m1095/1095\u001b[0m \u001b[32m━━━━━━━━━━━━━━━━━━━━\u001b[0m\u001b[37m\u001b[0m \u001b[1m10s\u001b[0m 9ms/step - loss: 8.9890e-04 - psnr_metric: 35.7733 - ssim_metric: 0.9222 - val_loss: 6.3946e-04 - val_psnr_metric: 37.3137 - val_ssim_metric: 0.9343\n",
      "Epoch 50/50\n",
      "\u001b[1m1095/1095\u001b[0m \u001b[32m━━━━━━━━━━━━━━━━━━━━\u001b[0m\u001b[37m\u001b[0m \u001b[1m10s\u001b[0m 9ms/step - loss: 8.7108e-04 - psnr_metric: 36.0975 - ssim_metric: 0.9226 - val_loss: 6.3686e-04 - val_psnr_metric: 37.3684 - val_ssim_metric: 0.9344\n",
      "traning completed\n",
      "WARNING:absl:You are saving your model as an HDF5 file via `model.save()` or `keras.saving.save_model(model)`. This file format is considered legacy. We recommend using instead the native Keras format, e.g. `model.save('my_model.keras')` or `keras.saving.save_model(model, 'my_model.keras')`. \n"
     ]
    }
   ],
   "source": [
    "!python3 'train.py'"
   ]
  },
  {
   "cell_type": "code",
   "execution_count": null,
   "metadata": {
    "colab": {
     "base_uri": "https://localhost:8080/"
    },
    "executionInfo": {
     "elapsed": 28010,
     "status": "ok",
     "timestamp": 1758100645492,
     "user": {
      "displayName": "aatiqa bhatti",
      "userId": "14307897228911474333"
     },
     "user_tz": -300
    },
    "id": "PNhnZAjT830o",
    "outputId": "4a53a8cd-32d4-462b-fb81-d9f86d41b080"
   },
   "outputs": [
    {
     "name": "stdout",
     "output_type": "stream",
     "text": [
      "2025-09-17 09:16:56.995183: E external/local_xla/xla/stream_executor/cuda/cuda_fft.cc:467] Unable to register cuFFT factory: Attempting to register factory for plugin cuFFT when one has already been registered\n",
      "WARNING: All log messages before absl::InitializeLog() is called are written to STDERR\n",
      "E0000 00:00:1758100617.014083   25690 cuda_dnn.cc:8579] Unable to register cuDNN factory: Attempting to register factory for plugin cuDNN when one has already been registered\n",
      "E0000 00:00:1758100617.019679   25690 cuda_blas.cc:1407] Unable to register cuBLAS factory: Attempting to register factory for plugin cuBLAS when one has already been registered\n",
      "W0000 00:00:1758100617.034201   25690 computation_placer.cc:177] computation placer already registered. Please check linkage and avoid linking the same target more than once.\n",
      "W0000 00:00:1758100617.034231   25690 computation_placer.cc:177] computation placer already registered. Please check linkage and avoid linking the same target more than once.\n",
      "W0000 00:00:1758100617.034235   25690 computation_placer.cc:177] computation placer already registered. Please check linkage and avoid linking the same target more than once.\n",
      "W0000 00:00:1758100617.034238   25690 computation_placer.cc:177] computation placer already registered. Please check linkage and avoid linking the same target more than once.\n",
      "Test set: (13392, 64, 64, 3) (13392, 64, 64, 3)\n",
      "2025-09-17 09:17:07.304430: W tensorflow/core/common_runtime/gpu/gpu_bfc_allocator.cc:47] Overriding orig_value setting because the TF_FORCE_GPU_ALLOW_GROWTH environment variable is set. Original config value was 0.\n",
      "I0000 00:00:1758100627.304613   25690 gpu_device.cc:2019] Created device /job:localhost/replica:0/task:0/device:GPU:0 with 13942 MB memory:  -> device: 0, name: Tesla T4, pci bus id: 0000:00:04.0, compute capability: 7.5\n",
      "WARNING:absl:Compiled the loaded model, but the compiled metrics have yet to be built. `model.compile_metrics` will be empty until you train or evaluate the model.\n",
      "2025-09-17 09:17:08.499366: W external/local_xla/xla/tsl/framework/cpu_allocator_impl.cc:83] Allocation of 658243584 exceeds 10% of free system memory.\n",
      "2025-09-17 09:17:09.112021: W external/local_xla/xla/tsl/framework/cpu_allocator_impl.cc:83] Allocation of 658243584 exceeds 10% of free system memory.\n",
      "WARNING: All log messages before absl::InitializeLog() is called are written to STDERR\n",
      "I0000 00:00:1758100629.611509   25751 service.cc:152] XLA service 0x7adfdc005b90 initialized for platform CUDA (this does not guarantee that XLA will be used). Devices:\n",
      "I0000 00:00:1758100629.611548   25751 service.cc:160]   StreamExecutor device (0): Tesla T4, Compute Capability 7.5\n",
      "I0000 00:00:1758100629.644375   25751 cuda_dnn.cc:529] Loaded cuDNN version 91002\n",
      "I0000 00:00:1758100630.458037   25751 device_compiler.h:188] Compiled cluster using XLA!  This line is logged at most once for the lifetime of the process.\n",
      "\u001b[1m419/419\u001b[0m \u001b[32m━━━━━━━━━━━━━━━━━━━━\u001b[0m\u001b[37m\u001b[0m \u001b[1m4s\u001b[0m 7ms/step\n",
      "2025-09-17 09:17:13.629147: W external/local_xla/xla/tsl/framework/cpu_allocator_impl.cc:83] Allocation of 658243584 exceeds 10% of free system memory.\n",
      "Average PSNR on test set: 37.20286\n",
      "Average SSIM on test set: 0.9429087220842214\n"
     ]
    }
   ],
   "source": [
    "!python 'test.py'\n"
   ]
  }
 ],
 "metadata": {
  "accelerator": "GPU",
  "colab": {
   "authorship_tag": "ABX9TyP5481pf+/1ru34LHfZ2SCZ",
   "gpuType": "T4",
   "provenance": []
  },
  "kernelspec": {
   "display_name": "Python 3",
   "name": "python3"
  },
  "language_info": {
   "name": "python"
  }
 },
 "nbformat": 4,
 "nbformat_minor": 0
}
